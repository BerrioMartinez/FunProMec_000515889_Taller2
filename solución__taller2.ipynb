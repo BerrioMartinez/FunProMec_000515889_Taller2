{
  "nbformat": 4,
  "nbformat_minor": 0,
  "metadata": {
    "colab": {
      "provenance": [],
      "authorship_tag": "ABX9TyMSLUycnP4ERzoZ9qMsJMzc",
      "include_colab_link": true
    },
    "kernelspec": {
      "name": "python3",
      "display_name": "Python 3"
    },
    "language_info": {
      "name": "python"
    }
  },
  "cells": [
    {
      "cell_type": "markdown",
      "metadata": {
        "id": "view-in-github",
        "colab_type": "text"
      },
      "source": [
        "<a href=\"https://colab.research.google.com/github/BerrioMartinez/FunProMec_000515889_Taller2/blob/main/soluci%C3%B3n__taller2.ipynb\" target=\"_parent\"><img src=\"https://colab.research.google.com/assets/colab-badge.svg\" alt=\"Open In Colab\"/></a>"
      ]
    },
    {
      "cell_type": "markdown",
      "source": [],
      "metadata": {
        "id": "COEGjFlZuGXt"
      }
    },
    {
      "cell_type": "markdown",
      "source": [
        "fundamentos de programacion- ingenieria mecanica 202310\n",
        "\n",
        "estudiante: Alfredo Berrio Martinez\n",
        "\n",
        "id: 000515889\n",
        "\n",
        "email: alfedo.berrio@upb.edu.co"
      ],
      "metadata": {
        "id": "k6LMgThfwq1m"
      }
    },
    {
      "cell_type": "code",
      "source": [
        "#posicion de la particula en un tiempo: t_1 = 0\n",
        "t_1 = 0\n",
        "#posicion de la particula en un tiempo: t_2 = 5\n",
        "t_1 = 5\n",
        "\n",
        "x_0= 3\n",
        "v_0 = 5\n",
        "a = 6\n",
        "c =1/2 \n",
        "x_1 = v_0 + v_0*t_1 + c*a*t_1**2\n",
        "x_2 = v_0 + v_0*t_2 + c*a*t_2**2\n",
        "print(x_1)\n",
        "print(X_2)"
      ],
      "metadata": {
        "colab": {
          "base_uri": "https://localhost:8080/",
          "height": 235
        },
        "id": "GByEKkEcxWie",
        "outputId": "909c3345-d74b-41af-f6f0-786400cf6dc3"
      },
      "execution_count": 4,
      "outputs": [
        {
          "output_type": "error",
          "ename": "NameError",
          "evalue": "ignored",
          "traceback": [
            "\u001b[0;31m---------------------------------------------------------------------------\u001b[0m",
            "\u001b[0;31mNameError\u001b[0m                                 Traceback (most recent call last)",
            "\u001b[0;32m<ipython-input-4-e2120db144c2>\u001b[0m in \u001b[0;36m<module>\u001b[0;34m\u001b[0m\n\u001b[1;32m      9\u001b[0m \u001b[0mc\u001b[0m \u001b[0;34m=\u001b[0m\u001b[0;36m1\u001b[0m\u001b[0;34m/\u001b[0m\u001b[0;36m2\u001b[0m\u001b[0;34m\u001b[0m\u001b[0;34m\u001b[0m\u001b[0m\n\u001b[1;32m     10\u001b[0m \u001b[0mx_1\u001b[0m \u001b[0;34m=\u001b[0m \u001b[0mv_0\u001b[0m \u001b[0;34m+\u001b[0m \u001b[0mv_0\u001b[0m\u001b[0;34m*\u001b[0m\u001b[0mt_1\u001b[0m \u001b[0;34m+\u001b[0m \u001b[0mc\u001b[0m\u001b[0;34m*\u001b[0m\u001b[0ma\u001b[0m\u001b[0;34m*\u001b[0m\u001b[0mt_1\u001b[0m\u001b[0;34m**\u001b[0m\u001b[0;36m2\u001b[0m\u001b[0;34m\u001b[0m\u001b[0;34m\u001b[0m\u001b[0m\n\u001b[0;32m---> 11\u001b[0;31m \u001b[0mx_2\u001b[0m \u001b[0;34m=\u001b[0m \u001b[0mv_0\u001b[0m \u001b[0;34m+\u001b[0m \u001b[0mv_0\u001b[0m\u001b[0;34m*\u001b[0m\u001b[0mt_2\u001b[0m \u001b[0;34m+\u001b[0m \u001b[0mc\u001b[0m\u001b[0;34m*\u001b[0m\u001b[0ma\u001b[0m\u001b[0;34m*\u001b[0m\u001b[0mt_2\u001b[0m\u001b[0;34m**\u001b[0m\u001b[0;36m2\u001b[0m\u001b[0;34m\u001b[0m\u001b[0;34m\u001b[0m\u001b[0m\n\u001b[0m\u001b[1;32m     12\u001b[0m \u001b[0mprint\u001b[0m\u001b[0;34m(\u001b[0m\u001b[0mx_1\u001b[0m\u001b[0;34m)\u001b[0m\u001b[0;34m\u001b[0m\u001b[0;34m\u001b[0m\u001b[0m\n\u001b[1;32m     13\u001b[0m \u001b[0mprint\u001b[0m\u001b[0;34m(\u001b[0m\u001b[0mX_2\u001b[0m\u001b[0;34m)\u001b[0m\u001b[0;34m\u001b[0m\u001b[0;34m\u001b[0m\u001b[0m\n",
            "\u001b[0;31mNameError\u001b[0m: name 't_2' is not defined"
          ]
        }
      ]
    }
  ]
}